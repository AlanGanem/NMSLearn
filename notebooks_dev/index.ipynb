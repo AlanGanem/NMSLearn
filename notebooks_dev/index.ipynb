{
 "cells": [
  {
   "cell_type": "markdown",
   "metadata": {},
   "source": [
    "# NMSLearn\n",
    "> NMSLib objects avalible just like sklearn's nearest_neighbors API"
   ]
  },
  {
   "cell_type": "markdown",
   "metadata": {},
   "source": [
    "## Instalation"
   ]
  },
  {
   "cell_type": "markdown",
   "metadata": {},
   "source": [
    "just run:\n",
    "\n",
    "```pip install git+https://github.com/AlanGanem/NMSLearn ```\n",
    "\n",
    "or  clone and run setup.py\n",
    "\n",
    "Available only for python 3.8 or lower"
   ]
  },
  {
   "cell_type": "markdown",
   "metadata": {},
   "source": [
    "# Available Wrappers"
   ]
  },
  {
   "cell_type": "markdown",
   "metadata": {},
   "source": [
    "- [X] `NMSLibSklearnWrapper` - Base class for building classes for different metrics\n",
    "- [X] `FastJaccardNN` - Class to perform Jaccard dissimilarity based nearesst neighbors search\n",
    "- [X] `FastL2NN` - Class to perform L2(euclidean) distance based nearesst neighbors search\n",
    "- [X] `FastKLDivNN`  - Class to perform Kullback-Leibler divergence based nearesst neighbors search"
   ]
  },
  {
   "cell_type": "markdown",
   "metadata": {},
   "source": [
    "## Usage example"
   ]
  },
  {
   "cell_type": "code",
   "execution_count": 1,
   "metadata": {},
   "outputs": [],
   "source": [
    "#hide\n",
    "import sys\n",
    "sys.path.append('..')"
   ]
  },
  {
   "cell_type": "code",
   "execution_count": 2,
   "metadata": {},
   "outputs": [],
   "source": [
    "#import L2 nearest neighbor class\n",
    "from nmslearn.neighbors import FastL2NN\n",
    "#numpy for data generation\n",
    "import numpy as np"
   ]
  },
  {
   "cell_type": "code",
   "execution_count": 3,
   "metadata": {},
   "outputs": [
    {
     "data": {
      "text/plain": [
       "FastL2NN(verbose=True)"
      ]
     },
     "execution_count": 3,
     "metadata": {},
     "output_type": "execute_result"
    }
   ],
   "source": [
    "#make random data to create index\n",
    "X = np.random.randn(100_000, 10)\n",
    "#instantiate nearest neighbor object with default parameters\n",
    "l2nn = FastL2NN(verbose = True)\n",
    "#fit the index\n",
    "l2nn.fit(X)"
   ]
  },
  {
   "cell_type": "code",
   "execution_count": 4,
   "metadata": {},
   "outputs": [
    {
     "name": "stdout",
     "output_type": "stream",
     "text": [
      "kNN time total=0.008003 (sec), per query=0.002668 (sec), per query adjusted for thread number=0.021342 (sec)\n"
     ]
    },
    {
     "data": {
      "text/plain": [
       "([array([1.3245634, 1.6304972, 2.3469138, 2.5226061, 2.571098 , 2.5826378,\n",
       "         2.58591  , 2.7503452, 2.9602616, 3.051869 , 3.0761793, 3.0987031,\n",
       "         3.1178   , 3.126969 , 3.1348734, 3.2131133, 3.2408729, 3.2818627,\n",
       "         3.3321965, 3.339151 , 3.3681705, 3.3815045, 3.3855784, 3.4641187,\n",
       "         3.5331888, 3.5802543, 3.6158307, 3.6223383, 3.666287 , 3.6673372],\n",
       "        dtype=float32),\n",
       "  array([0.61047035, 0.6418276 , 0.7520662 , 0.8606815 , 0.8694241 ,\n",
       "         0.89354324, 0.9396638 , 1.0212313 , 1.046349  , 1.0705577 ,\n",
       "         1.0905973 , 1.1210229 , 1.1351492 , 1.214601  , 1.2423488 ,\n",
       "         1.2616279 , 1.2741274 , 1.4380698 , 1.4898877 , 1.6442922 ,\n",
       "         1.6522729 , 1.6648743 , 1.6743813 , 1.6807532 , 1.6844735 ,\n",
       "         1.7031903 , 1.7120422 , 1.7446207 , 1.7527819 , 1.7674448 ],\n",
       "        dtype=float32),\n",
       "  array([3.6314204, 4.0911403, 4.2446575, 4.4768524, 4.939749 , 5.056326 ,\n",
       "         5.184124 , 5.2949767, 5.351741 , 5.3570704, 5.376051 , 5.4323053,\n",
       "         5.6032033, 5.6485624, 5.6798406, 5.7229824, 5.727806 , 5.7553544,\n",
       "         5.7996774, 5.918634 , 5.9476724, 5.958545 , 6.0005064, 6.0113473,\n",
       "         6.046746 , 6.0788283, 6.115496 , 6.121717 , 6.171587 , 6.177366 ],\n",
       "        dtype=float32)],\n",
       " [array([42822, 30338, 65640, 33816, 31477, 24327, 62219, 71619, 47402,\n",
       "         64592, 22439, 66049, 98434, 26807, 96418, 41685, 57696, 15364,\n",
       "         49249, 39804, 69842, 52465, 13791, 11394, 56749, 83391, 14460,\n",
       "         19654, 79622, 22899]),\n",
       "  array([16760, 74076, 36773, 98339, 74754, 23677, 24736, 29043, 22602,\n",
       "         42063,  9178, 28964, 23573, 93285,  1598, 55341,  4508, 58892,\n",
       "         90815, 76816, 71175, 59025, 32525, 14222, 98113, 17727, 14136,\n",
       "         60727, 52566, 22507]),\n",
       "  array([68364, 33045,   675, 94592, 92453, 63129,  8206, 41737, 90293,\n",
       "         33514, 42227, 97250, 84322, 35358, 11519, 25277, 33946, 74534,\n",
       "         60613, 50247, 16112, 66530, 42217, 43870, 35752, 72825, 16468,\n",
       "         83012, 86004, 83829])])"
      ]
     },
     "execution_count": 4,
     "metadata": {},
     "output_type": "execute_result"
    }
   ],
   "source": [
    "#use fitted index to query new data\n",
    "query_matrix = np.random.randn(3, 10)\n",
    "\n",
    "distances, indexes = l2nn.kneighbors(query_matrix, n_neighbors = 30, n_jobs = 8, return_distance = True)\n",
    "\n",
    "distances, indexes"
   ]
  },
  {
   "cell_type": "code",
   "execution_count": 5,
   "metadata": {},
   "outputs": [],
   "source": [
    "import joblib\n",
    "#serialize object with joblib or any other serializer\n",
    "joblib.dump(l2nn,'l2nn.sav')\n",
    "\n",
    "#deserialze\n",
    "l2nn = joblib.load('l2nn.sav')"
   ]
  },
  {
   "cell_type": "code",
   "execution_count": 6,
   "metadata": {},
   "outputs": [
    {
     "data": {
      "text/plain": [
       "FastL2NN(verbose=True)"
      ]
     },
     "execution_count": 6,
     "metadata": {},
     "output_type": "execute_result"
    }
   ],
   "source": [
    "#appends to index with partial_fit method\n",
    "l2nn.partial_fit(X)"
   ]
  },
  {
   "cell_type": "code",
   "execution_count": 7,
   "metadata": {},
   "outputs": [
    {
     "name": "stdout",
     "output_type": "stream",
     "text": [
      "kNN time total=0.027713 (sec), per query=0.009238 (sec), per query adjusted for thread number=0.073902 (sec)\n"
     ]
    },
    {
     "data": {
      "text/plain": [
       "([array([1.3245634, 1.3245634, 1.6304972, 1.6304972, 2.3469138, 2.3469138,\n",
       "         2.5226061, 2.5226061, 2.571098 , 2.571098 , 2.5826378, 2.5826378,\n",
       "         2.58591  , 2.58591  , 2.7503452, 2.7503452, 2.9602616, 2.9602616,\n",
       "         3.051869 , 3.051869 , 3.0761793, 3.0761793, 3.0987031, 3.0987031,\n",
       "         3.1178   , 3.1178   , 3.126969 , 3.126969 , 3.1348734, 3.1348734],\n",
       "        dtype=float32),\n",
       "  array([0.61047035, 0.61047035, 0.6418276 , 0.6418276 , 0.7520662 ,\n",
       "         0.7520662 , 0.8606815 , 0.8606815 , 0.8694241 , 0.8694241 ,\n",
       "         0.89354324, 0.89354324, 0.9396638 , 0.9396638 , 1.0212313 ,\n",
       "         1.0212313 , 1.046349  , 1.046349  , 1.0705577 , 1.0705577 ,\n",
       "         1.0905973 , 1.0905973 , 1.1210229 , 1.1210229 , 1.1351492 ,\n",
       "         1.1351492 , 1.214601  , 1.214601  , 1.2423488 , 1.2423488 ],\n",
       "        dtype=float32),\n",
       "  array([3.6314204, 3.6314204, 4.0911403, 4.0911403, 4.2446575, 4.2446575,\n",
       "         4.4768524, 4.4768524, 4.939749 , 4.939749 , 5.056326 , 5.056326 ,\n",
       "         5.184124 , 5.184124 , 5.2949767, 5.2949767, 5.351741 , 5.351741 ,\n",
       "         5.3570704, 5.3570704, 5.376051 , 5.376051 , 5.4323053, 5.4323053,\n",
       "         5.6032033, 5.6032033, 5.6485624, 5.6485624, 5.6798406, 5.6798406],\n",
       "        dtype=float32)],\n",
       " [array([42822, 42822, 30338, 30338, 65640, 65640, 33816, 33816, 31477,\n",
       "         31477, 24327, 24327, 62219, 62219, 71619, 71619, 47402, 47402,\n",
       "         64592, 64592, 22439, 22439, 66049, 66049, 98434, 98434, 26807,\n",
       "         26807, 96418, 96418]),\n",
       "  array([16760, 16760, 74076, 74076, 36773, 36773, 98339, 98339, 74754,\n",
       "         74754, 23677, 23677, 24736, 24736, 29043, 29043, 22602, 22602,\n",
       "         42063, 42063,  9178,  9178, 28964, 28964, 23573, 23573, 93285,\n",
       "         93285,  1598,  1598]),\n",
       "  array([68364, 68364, 33045, 33045,   675,   675, 94592, 94592, 92453,\n",
       "         92453, 63129, 63129,  8206,  8206, 41737, 41737, 90293, 90293,\n",
       "         33514, 33514, 42227, 42227, 97250, 97250, 84322, 84322, 35358,\n",
       "         35358, 11519, 11519])])"
      ]
     },
     "execution_count": 7,
     "metadata": {},
     "output_type": "execute_result"
    }
   ],
   "source": [
    "#query again with \n",
    "\n",
    "distances, indexes = l2nn.kneighbors(query_matrix, n_neighbors = 30, n_jobs = 8, return_distance = True)\n",
    "\n",
    "distances, indexes"
   ]
  }
 ],
 "metadata": {
  "kernelspec": {
   "display_name": "Python 3 (ipykernel)",
   "language": "python",
   "name": "python3"
  },
  "language_info": {
   "codemirror_mode": {
    "name": "ipython",
    "version": 3
   },
   "file_extension": ".py",
   "mimetype": "text/x-python",
   "name": "python",
   "nbconvert_exporter": "python",
   "pygments_lexer": "ipython3",
   "version": "3.7.12"
  },
  "latex_envs": {
   "LaTeX_envs_menu_present": true,
   "autoclose": false,
   "autocomplete": true,
   "bibliofile": "biblio.bib",
   "cite_by": "apalike",
   "current_citInitial": 1,
   "eqLabelWithNumbers": true,
   "eqNumInitial": 1,
   "hotkeys": {
    "equation": "Ctrl-E",
    "itemize": "Ctrl-I"
   },
   "labels_anchors": false,
   "latex_user_defs": false,
   "report_style_numbering": false,
   "user_envs_cfg": false
  },
  "toc": {
   "base_numbering": 1,
   "nav_menu": {},
   "number_sections": true,
   "sideBar": true,
   "skip_h1_title": false,
   "title_cell": "Table of Contents",
   "title_sidebar": "Contents",
   "toc_cell": false,
   "toc_position": {},
   "toc_section_display": true,
   "toc_window_display": false
  }
 },
 "nbformat": 4,
 "nbformat_minor": 4
}
